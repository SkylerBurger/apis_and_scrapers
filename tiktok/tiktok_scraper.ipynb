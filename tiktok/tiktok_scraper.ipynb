{
 "metadata": {
  "language_info": {
   "codemirror_mode": {
    "name": "ipython",
    "version": 3
   },
   "file_extension": ".py",
   "mimetype": "text/x-python",
   "name": "python",
   "nbconvert_exporter": "python",
   "pygments_lexer": "ipython3",
   "version": "3.8.2-final"
  },
  "orig_nbformat": 2,
  "kernelspec": {
   "name": "python38264bitapisandscrapersvenvf2140220de3048d48d920259101581f4",
   "display_name": "Python 3.8.2 64-bit ('apis-and-scrapers': venv)",
   "language": "python"
  }
 },
 "nbformat": 4,
 "nbformat_minor": 2,
 "cells": [
  {
   "cell_type": "code",
   "execution_count": null,
   "metadata": {},
   "outputs": [],
   "source": [
    "import re\n",
    "import time\n",
    "\n",
    "from bs4 import BeautifulSoup\n",
    "from selenium import webdriver\n"
   ]
  },
  {
   "cell_type": "code",
   "execution_count": null,
   "metadata": {},
   "outputs": [],
   "source": [
    "def create_browser():\n",
    "    \"\"\"Returns a Selenium Chrome WebDriver instance.\"\"\"\n",
    "    browser = webdriver.Chrome('../utilities/chromedriver')\n",
    "    return browser"
   ]
  },
  {
   "cell_type": "code",
   "execution_count": null,
   "metadata": {},
   "outputs": [],
   "source": [
    "snapshots = []\n",
    "\n",
    "def snapshot(browser):\n",
    "    \"\"\"Appends the current HTML of the page to the \n",
    "    snapshots list.\n",
    "    \"\"\"\n",
    "    global snapshots\n",
    "    snapshots.append(browser.page_source)\n",
    "\n",
    "def scroll_and_snapshot(browser, max_scroll_secs):\n",
    "    \"\"\"Scrolls through the full height of a profile page while \n",
    "    frequently taking snapshots of the page's HTML.\n",
    "    \"\"\"\n",
    "    SCROLL_PAUSE_TIME = 2\n",
    "    last_height = browser.execute_script(\"return document.body.scrollHeight\")\n",
    "    end_time = time.time() + max_scroll_secs\n",
    "    \n",
    "    # Attribution for scrolling mechanism:\n",
    "    # https://stackoverflow.com/questions/20986631/how-can-i-scroll-a-web-page-using-selenium-webdriver-in-python#27760083\n",
    "    while time.time() < end_time:\n",
    "        # Scroll down to bottom\n",
    "        browser.execute_script(\"window.scrollTo(0, document.body.scrollHeight);\")\n",
    "        # Wait to load page\n",
    "        time.sleep(SCROLL_PAUSE_TIME)\n",
    "        # Calculate new scroll height and compare with last scroll height\n",
    "        new_height = browser.execute_script(\"return document.body.scrollHeight\")\n",
    "        snapshot(browser)\n",
    "        \n",
    "        if new_height <= last_height:\n",
    "            break\n",
    "        else: \n",
    "            last_height = new_height\n",
    "\n",
    "def collect_links(snapshots):\n",
    "    \"\"\"Goes through the HTML snapshots and returns a set of unique \n",
    "    img elements.\n",
    "    \"\"\"\n",
    "    links = []\n",
    "    \n",
    "    for html in snapshots:\n",
    "        soup = BeautifulSoup(html, 'html.parser')\n",
    "        cards = soup.find_all('div', class_='image-card')\n",
    "        image_pattern = re.compile('background-image: url\\(\"(.+)\"\\)')\n",
    "        video_pattern = re.compile('src=\"(.+)\"')\n",
    "\n",
    "        for card in cards:\n",
    "            # Get image link\n",
    "            match_obj = image_pattern.search(str(card))\n",
    "            image_link = match_obj[1]\n",
    "            # Get video link\n",
    "            video = card.video\n",
    "            links.append({'image': image_link, 'video': video}) \n",
    "\n",
    "        \n",
    "    return links"
   ]
  },
  {
   "cell_type": "code",
   "execution_count": null,
   "metadata": {},
   "outputs": [],
   "source": [
    "URL = 'https://www.tiktok.com/@mikeservinofficial'"
   ]
  },
  {
   "cell_type": "code",
   "execution_count": null,
   "metadata": {},
   "outputs": [],
   "source": [
    "browser = create_browser()\n",
    "browser.get(URL)\n",
    "\n",
    "scroll_and_snapshot(browser, 8)\n"
   ]
  },
  {
   "cell_type": "code",
   "execution_count": null,
   "metadata": {},
   "outputs": [],
   "source": [
    "links = collect_links(snapshots)\n",
    "\n",
    "def vid_link(obj):\n",
    "    return {\n",
    "        'image': obj['image'],\n",
    "        'video': obj['video'].src\n",
    "    }\n",
    "\n",
    "links = map(vid_link, links)\n",
    "links = list(links)\n",
    "print(len(links))\n",
    "print(links[0])"
   ]
  },
  {
   "cell_type": "code",
   "execution_count": null,
   "metadata": {},
   "outputs": [],
   "source": [
    "browser.quit()"
   ]
  },
  {
   "cell_type": "code",
   "execution_count": null,
   "metadata": {},
   "outputs": [],
   "source": []
  }
 ]
}