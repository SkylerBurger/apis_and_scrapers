{
 "cells": [
  {
   "cell_type": "markdown",
   "metadata": {},
   "source": [
    "# Scraping Wikipedia for 'Citation Needed'"
   ]
  },
  {
   "cell_type": "code",
   "execution_count": 1,
   "metadata": {},
   "outputs": [],
   "source": [
    "import requests\n",
    "from bs4 import BeautifulSoup\n"
   ]
  },
  {
   "cell_type": "code",
   "execution_count": 2,
   "metadata": {
    "tags": [
     "outputPrepend"
    ]
   },
   "outputs": [],
   "source": [
    "def make_soup(URL):\n",
    "    \"\"\"\n",
    "    Makes call to a site, gathers its HTML content, and creates an instance of BeautifulSoup.\n",
    "    \"\"\"\n",
    "    response = requests.get(URL)\n",
    "    return BeautifulSoup(response.content, 'html.parser')"
   ]
  },
  {
   "cell_type": "code",
   "execution_count": 3,
   "metadata": {},
   "outputs": [],
   "source": [
    "def get_citations_needed(URL):\n",
    "    \"\"\"\n",
    "    Returns int representing number of citations needed.\n",
    "    \"\"\"\n",
    "    soup = make_soup(URL)\n",
    "    paragraphs = soup.find(id=\"content\").find_all('p')\n",
    "    citations_needed = 0\n",
    "\n",
    "    for paragraph in paragraphs:\n",
    "        links = paragraph.find_all('a')\n",
    "        for link in links:\n",
    "            if link.get('title') == \"Wikipedia:Citation needed\":\n",
    "                citations_needed += 1\n",
    "\n",
    "    return citations_needed\n"
   ]
  },
  {
   "cell_type": "code",
   "execution_count": 8,
   "metadata": {},
   "outputs": [],
   "source": [
    "def get_citations_needed_report(URL):\n",
    "    \"\"\"\n",
    "    Returns a report of needed citations.\n",
    "    \"\"\"\n",
    "    soup = make_soup(URL)\n",
    "    paragraphs = soup.find(id=\"content\").find_all('p')\n",
    "    # Using a set so paragraphs containing multiple 'citation needed' instances print once\n",
    "    needy_paragraphs = set()\n",
    "\n",
    "    for paragraph in paragraphs:\n",
    "        links = paragraph.find_all('a')\n",
    "        for link in links:\n",
    "            if link.get('title') == \"Wikipedia:Citation needed\":\n",
    "                needy_paragraphs.add(paragraph)\n",
    "\n",
    "    print('The following paragraphs require additional citations:\\n')\n",
    "\n",
    "    for paragraph in needy_paragraphs:\n",
    "        print('- ' + paragraph.text + '\\n')\n"
   ]
  },
  {
   "cell_type": "code",
   "execution_count": 10,
   "metadata": {},
   "outputs": [],
   "source": [
    "# example_url = 'https://en.m.wikipedia.org/wiki/Ghost'\n",
    "example_url = 'https://en.wikipedia.org/wiki/Stonehenge'"
   ]
  },
  {
   "cell_type": "markdown",
   "metadata": {},
   "source": [
    "## Testing Functions"
   ]
  },
  {
   "cell_type": "code",
   "execution_count": 11,
   "metadata": {},
   "outputs": [
    {
     "output_type": "execute_result",
     "data": {
      "text/plain": "4"
     },
     "metadata": {},
     "execution_count": 11
    }
   ],
   "source": [
    "get_citations_needed(example_url)"
   ]
  },
  {
   "cell_type": "code",
   "execution_count": 12,
   "metadata": {},
   "outputs": [
    {
     "output_type": "stream",
     "name": "stdout",
     "text": "The following paragraphs require additional citations:\n\n- There is little or no direct evidence revealing the construction techniques used by the Stonehenge builders. Over the years, various authors have suggested that supernatural or anachronistic methods were used, usually asserting that the stones were impossible to move otherwise due to their massive size. However, conventional techniques, using Neolithic technology as basic as shear legs, have been demonstrably effective at moving and placing stones of a similar size.[citation needed] How the stones could be transported by a prehistoric people without the aid of the wheel or a pulley system is not known. The most common theory of how prehistoric people moved megaliths has them creating a track of logs which the large stones were rolled along.[41] Another megalith transport theory involves the use of a type of sleigh running on a track greased with animal fat.[41] Such an experiment with a sleigh carrying a 40-ton slab of stone was successful near Stonehenge in 1995. A team of more than 100 workers managed to push and pull the slab along the 18-mile (29 km) journey from Marlborough Downs.[41] Proposed functions for the site include usage as an astronomical observatory or as a religious site.\n\n\n- However, following a European Court of Human Rights ruling obtained by campaigners such as Arthur Uther Pendragon, the restrictions were lifted.[81] The ruling recognizes that members of any genuine religion have a right to worship in their own church, and Stonehenge is a place of worship  to Neo-Druids, Pagans and other \"Earth based' or 'old' religions.[citation needed]  The Roundtable meetings include members of the Wiltshire Police force, National Trust, English Heritage, Pagans, Druids, Spiritualists and others.[citation needed]\n\n\n- At the Summer Solstice 2003, which fell over a weekend, over 30,000 people attended a gathering at and in the stones. The 2004 gathering was smaller (around 21,000 people).[citation needed]\n\n\n"
    }
   ],
   "source": [
    "get_citations_needed_report(example_url)"
   ]
  }
 ],
 "metadata": {
  "language_info": {
   "codemirror_mode": {
    "name": "ipython",
    "version": 3
   },
   "file_extension": ".py",
   "mimetype": "text/x-python",
   "name": "python",
   "nbconvert_exporter": "python",
   "pygments_lexer": "ipython3",
   "version": "3.8.2-final"
  },
  "orig_nbformat": 2,
  "kernelspec": {
   "name": "python38264bitwebscrapersvenv241db5bf5f2e47acbf145704a7c451a6",
   "display_name": "Python 3.8.2 64-bit ('web-scrapers': venv)"
  }
 },
 "nbformat": 4,
 "nbformat_minor": 2
}