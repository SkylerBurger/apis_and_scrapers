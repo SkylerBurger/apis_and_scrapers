{
 "metadata": {
  "language_info": {
   "codemirror_mode": {
    "name": "ipython",
    "version": 3
   },
   "file_extension": ".py",
   "mimetype": "text/x-python",
   "name": "python",
   "nbconvert_exporter": "python",
   "pygments_lexer": "ipython3",
   "version": "3.8.2-final"
  },
  "orig_nbformat": 2,
  "kernelspec": {
   "name": "python38264bitapisandscrapersvenvf2140220de3048d48d920259101581f4",
   "display_name": "Python 3.8.2 64-bit ('apis-and-scrapers': venv)"
  }
 },
 "nbformat": 4,
 "nbformat_minor": 2,
 "cells": [
  {
   "cell_type": "code",
   "execution_count": 1,
   "metadata": {},
   "outputs": [],
   "source": [
    "from scroller import Scroller"
   ]
  },
  {
   "source": [
    "## Ebay Example"
   ],
   "cell_type": "markdown",
   "metadata": {}
  },
  {
   "cell_type": "code",
   "execution_count": 2,
   "metadata": {},
   "outputs": [],
   "source": [
    "base_link = 'https://www.ebay.com/sch/i.html?_from=R40&_nkw=playstation+5&_sacat=0&rt=nc&LH_Sold=1&LH_Complete=1_pgn%3D1&_ipg=200&_pgn='\n",
    "\n",
    "scroller = Scroller(base_link, next_class='pagination__next')\n"
   ]
  },
  {
   "cell_type": "code",
   "execution_count": 3,
   "metadata": {},
   "outputs": [
    {
     "output_type": "execute_result",
     "data": {
      "text/plain": [
       "5"
      ]
     },
     "metadata": {},
     "execution_count": 3
    }
   ],
   "source": [
    "scroller.collect_pages(5)\n",
    "len(scroller.snapshots)"
   ]
  }
 ]
}