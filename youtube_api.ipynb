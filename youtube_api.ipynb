{
 "cells": [
  {
   "cell_type": "markdown",
   "metadata": {},
   "source": [
    "# YouTube API with Google-API-Python-Client\n",
    "\n",
    "[YouTube Video](https://www.youtube.com/watch?v=th5_9woFJmk)"
   ]
  },
  {
   "cell_type": "code",
   "execution_count": 4,
   "metadata": {
    "tags": []
   },
   "outputs": [],
   "source": [
    "from environs import Env\n",
    "env = Env()\n",
    "env.read_env()\n",
    "\n",
    "KEY = env.str(\"YOUTUBE_API_KEY\")\n"
   ]
  },
  {
   "cell_type": "code",
   "execution_count": 5,
   "metadata": {},
   "outputs": [],
   "source": [
    "from googleapiclient.discovery import build\n",
    "\n",
    "youtube = build('youtube', 'v3', developerKey=KEY)"
   ]
  },
  {
   "cell_type": "code",
   "execution_count": 6,
   "metadata": {
    "tags": []
   },
   "outputs": [
    {
     "output_type": "stream",
     "name": "stdout",
     "text": "{'kind': 'youtube#channelListResponse', 'etag': 'EqEK3-5AVXVT2cipTwZjIrDX_Xg', 'pageInfo': {'totalResults': 1, 'resultsPerPage': 5}, 'items': [{'kind': 'youtube#channel', 'etag': 'L_i0unIlUQjqwGm-E0BtaGtjLt0', 'id': 'UCV9_KinVpV-snHe3C3n1hvA', 'statistics': {'viewCount': '4454763153', 'commentCount': '0', 'subscriberCount': '22500000', 'hiddenSubscriberCount': False, 'videoCount': '655'}}]}\n"
    }
   ],
   "source": [
    "request = youtube.channels().list(\n",
    "    part='statistics',\n",
    "    forUsername='shane'\n",
    ")\n",
    "\n",
    "response = request.execute()\n",
    "\n",
    "print(response)"
   ]
  },
  {
   "cell_type": "code",
   "execution_count": null,
   "metadata": {},
   "outputs": [],
   "source": []
  }
 ],
 "metadata": {
  "language_info": {
   "codemirror_mode": {
    "name": "ipython",
    "version": 3
   },
   "file_extension": ".py",
   "mimetype": "text/x-python",
   "name": "python",
   "nbconvert_exporter": "python",
   "pygments_lexer": "ipython3",
   "version": "3.8.2-final"
  },
  "orig_nbformat": 2,
  "kernelspec": {
   "name": "python38264bityoutubeapivenv216131a9945440b695b1975dff2d0d7a",
   "display_name": "Python 3.8.2 64-bit ('youtube-api': venv)"
  }
 },
 "nbformat": 4,
 "nbformat_minor": 2
}