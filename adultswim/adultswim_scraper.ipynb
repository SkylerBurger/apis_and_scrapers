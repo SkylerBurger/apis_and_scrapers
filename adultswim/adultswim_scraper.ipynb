{
 "metadata": {
  "language_info": {
   "codemirror_mode": {
    "name": "ipython",
    "version": 3
   },
   "file_extension": ".py",
   "mimetype": "text/x-python",
   "name": "python",
   "nbconvert_exporter": "python",
   "pygments_lexer": "ipython3",
   "version": "3.8.2-final"
  },
  "orig_nbformat": 2,
  "kernelspec": {
   "name": "python38264bitapisandscrapersvenvf2140220de3048d48d920259101581f4",
   "display_name": "Python 3.8.2 64-bit ('apis-and-scrapers': venv)"
  }
 },
 "nbformat": 4,
 "nbformat_minor": 2,
 "cells": [
  {
   "cell_type": "markdown",
   "metadata": {},
   "source": [
    "# AdultSwim Show Scraper\n",
    "\n",
    "AdultSwim has a large offering of partial and full seasons of shows on their [shows page](https://www.adultswim.com/videos/). The purpose of this scraper is to create dictionaries of metadata for episodes that are currently available on the site.\n",
    "\n",
    "I discovered that the AdultSwim shows page was built with React when I was digging around in the Chrome Dev Tools and happened to click on the React Developer's Tools extension tab. An idea for a Chrome extension that could manage watchlists for multiple streaming sites had been running through my mind and I was delighted to find that AdultSwim had filled their components with plenty of meta tags that would make scraping the site a breeze. This led to the following.\n",
    "\n",
    "## Challenges\n",
    "1. Properly labelling the seasons and episodes.\n",
    "  - AdultSwim offers many partial seasons featuring mid-season epsiodes. I initially wrote the scraper for a show page that featured a complete series, relying on counting to properly label seasons and episodes. Thankfully AdultSwim put metadata in each of their season and episode components as props. These props are located within each component's rendered HTML as child meta elements. Each meta element has an attribute of 'itemprop' that describes the data in the accompanying 'content' attribute. After identifying the 'itemprop' attributes that describe season and episode numbers I was able to easily fix my season and episode numbering.\n",
    "\n"
   ]
  },
  {
   "cell_type": "code",
   "execution_count": null,
   "metadata": {},
   "outputs": [],
   "source": [
    "# Try replacing the following with another AS show link\n",
    "\n",
    "adultswim_show_link = 'https://www.adultswim.com/videos/ghost-in-the-shell'"
   ]
  },
  {
   "cell_type": "code",
   "execution_count": null,
   "metadata": {},
   "outputs": [],
   "source": [
    "# Imports\n",
    "\n",
    "from pprint import pprint\n",
    "\n",
    "from selenium import webdriver\n",
    "from bs4 import BeautifulSoup"
   ]
  },
  {
   "cell_type": "code",
   "execution_count": null,
   "metadata": {},
   "outputs": [],
   "source": [
    "# Functions\n",
    "\n",
    "def create_browser():\n",
    "    \"\"\"Returns a Selenium Chrome webdriver.\"\"\"\n",
    "    options = webdriver.ChromeOptions()\n",
    "    options.add_argument('headless')\n",
    "    browser = webdriver.Chrome(\n",
    "        executable_path='../utilities/chromedriver', \n",
    "        chrome_options=options)\n",
    "    return browser\n",
    "\n",
    "\n",
    "def get_html(as_show_link):\n",
    "    \"\"\"Returns the HTML content for a given URL.\"\"\"\n",
    "    browser = create_browser()\n",
    "    browser.get(as_show_link)\n",
    "    html = browser.page_source\n",
    "    browser.quit()\n",
    "    return html\n",
    "\n",
    "\n",
    "def normalize_episodes(season):\n",
    "    \"\"\"Returns a dict of details for each episode in a given season.\"\"\"\n",
    "    episodes = season.find_all('div', class_='_29ThWwPi')\n",
    "    episode_guide = {}\n",
    "\n",
    "    for index, episode in enumerate(episodes):\n",
    "        episode_data = {}\n",
    "        episode_number = 0\n",
    "        meta_tags = episode.find_all('meta')\n",
    "\n",
    "        for meta_data in meta_tags:\n",
    "            prop, content = meta_data.get('itemprop'), meta_data.get('content')\n",
    "            if prop == 'episodeNumber': episode_number = content\n",
    "            if prop and content: episode_data[prop] = content\n",
    "\n",
    "        episode_guide[f'episode_{episode_number}'] = episode_data\n",
    "\n",
    "    return episode_guide\n",
    "\n",
    "\n",
    "def normalize_season(season):\n",
    "    \"\"\"Returns the season number and a dict of episode details for a given season.\"\"\"\n",
    "    season_number_tag = season.find(name='meta', attrs={'itemprop':'seasonNumber'})\n",
    "    season_number = season_number_tag['content']\n",
    "    episode_guide = normalize_episodes(season)\n",
    "\n",
    "    return season_number, episode_guide\n",
    "\n",
    "\n",
    "def create_show_guide(show_link):\n",
    "    \"\"\"Returns a dict of episode details separated by seasons for a given AdultSwim show link.\"\"\"\n",
    "    html = get_html(show_link)\n",
    "    soup = BeautifulSoup(html, 'html.parser')\n",
    "    seasons = soup.find_all(name='div', attrs={'itemprop':'containsSeason'})\n",
    "    show_guide = {}\n",
    "\n",
    "    for index, season in enumerate(seasons):\n",
    "        season_number, episode_guide = normalize_season(season)\n",
    "        show_guide[f'season_{season_number}'] = episode_guide\n",
    "\n",
    "    return show_guide"
   ]
  },
  {
   "cell_type": "code",
   "execution_count": null,
   "metadata": {
    "tags": []
   },
   "outputs": [],
   "source": [
    "# Execution\n",
    "\n",
    "show_guide = create_show_guide(adultswim_show_link)\n",
    "pprint(show_guide)"
   ]
  }
 ]
}