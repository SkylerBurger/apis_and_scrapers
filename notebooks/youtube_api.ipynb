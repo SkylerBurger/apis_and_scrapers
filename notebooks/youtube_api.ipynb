{
 "cells": [
  {
   "cell_type": "markdown",
   "metadata": {},
   "source": [
    "# YouTube API with Google-API-Python-Client\n",
    "\n",
    "[Corey Schafer - YouTube Video](https://www.youtube.com/watch?v=th5_9woFJmk)\n",
    "\n",
    "[Google API Python Client - YouTube v3 Docs](http://googleapis.github.io/google-api-python-client/docs/dyn/youtube_v3.html)\n",
    "\n",
    "[YouTube Data API Reference Docs](https://developers.google.com/youtube/v3/docs)"
   ]
  },
  {
   "cell_type": "code",
   "execution_count": 1,
   "metadata": {
    "tags": []
   },
   "outputs": [],
   "source": [
    "# Using environs to read in my YouTube Data API v3 key from .env file\n",
    "\n",
    "from environs import Env\n",
    "env = Env()\n",
    "env.read_env()\n",
    "\n",
    "KEY = env.str(\"YOUTUBE_API_KEY\")\n"
   ]
  },
  {
   "cell_type": "code",
   "execution_count": 2,
   "metadata": {},
   "outputs": [],
   "source": [
    "# Creating a client object for the YouTube Data API v3. \n",
    "# Are they using the builder design pattern here?\n",
    "\n",
    "from googleapiclient.discovery import build\n",
    "\n",
    "youtube = build('youtube', 'v3', developerKey=KEY)"
   ]
  },
  {
   "cell_type": "code",
   "execution_count": 3,
   "metadata": {
    "tags": []
   },
   "outputs": [
    {
     "output_type": "stream",
     "name": "stdout",
     "text": "{'kind': 'youtube#channelListResponse',\n 'etag': '_n_3clj1N8hDKoIyhlW0T5_3_1I',\n 'pageInfo': {'totalResults': 1, 'resultsPerPage': 5},\n 'items': [{'kind': 'youtube#channel',\n            'etag': '_DZh1yM9Hj4QCIVfyaKtxGb6Udc',\n            'id': 'UC2V-cs2oxzLSAjUtMEMJ1jg',\n            'statistics': {'viewCount': '0',\n                           'commentCount': '0',\n                           'subscriberCount': '0',\n                           'hiddenSubscriberCount': False,\n                           'videoCount': '0'}}]}\n"
    }
   ],
   "source": [
    "# Requesting all publist playlists from a user (myself)\n",
    "\n",
    "from pprint import pp as prettyp\n",
    "\n",
    "request = youtube.channels().list(\n",
    "    part='statistics',\n",
    "    forUsername='xenospiral'\n",
    ")\n",
    "\n",
    "response = request.execute()\n",
    "\n",
    "prettyp(response)"
   ]
  },
  {
   "cell_type": "code",
   "execution_count": 4,
   "metadata": {
    "tags": []
   },
   "outputs": [
    {
     "output_type": "stream",
     "name": "stdout",
     "text": "['_AEJHKGk9ns', 'NLaeCFr_FlI', 'Mj-Pyg4gsPs', 'Mauq4qCgsOk', 'DQNW9qhl4eA']\n"
    }
   ],
   "source": [
    "# Requesting contents of a playlist\n",
    "\n",
    "playlist_request = youtube.playlistItems().list(\n",
    "    part='contentDetails',\n",
    "    playlistId='PLu6Ikpqc0gHVrctoIuHyjjScasXIHZ9fP',\n",
    ")\n",
    "\n",
    "playlists = playlist_request.execute()\n",
    "\n",
    "vid_ids = [item['contentDetails']['videoId'] for item in playlists['items']]\n",
    "\n",
    "prettyp(vid_ids)"
   ]
  },
  {
   "cell_type": "code",
   "execution_count": 5,
   "metadata": {
    "tags": []
   },
   "outputs": [
    {
     "output_type": "stream",
     "name": "stdout",
     "text": "{'kind': 'youtube#video',\n 'etag': 'msgKOyQHsLA4zjK4d2pVkcrXYs0',\n 'id': '_AEJHKGk9ns',\n 'contentDetails': {'duration': 'PT25M20S',\n                    'dimension': '2d',\n                    'definition': 'hd',\n                    'caption': 'false',\n                    'licensedContent': False,\n                    'contentRating': {},\n                    'projection': 'rectangular'}}\n{'kind': 'youtube#video',\n 'etag': 'tgjS2QW8jUfdVuCaPQpU7bS0vGo',\n 'id': 'NLaeCFr_FlI',\n 'contentDetails': {'duration': 'PT17M14S',\n                    'dimension': '2d',\n                    'definition': 'hd',\n                    'caption': 'false',\n                    'licensedContent': True,\n                    'contentRating': {},\n                    'projection': 'rectangular'}}\n{'kind': 'youtube#video',\n 'etag': 'pErp6sAzBQH8MzODxhXvhi8I6d8',\n 'id': 'Mj-Pyg4gsPs',\n 'contentDetails': {'duration': 'PT34M57S',\n                    'dimension': '2d',\n                    'definition': 'hd',\n                    'caption': 'false',\n                    'licensedContent': False,\n                    'contentRating': {},\n                    'projection': 'rectangular'}}\n{'kind': 'youtube#video',\n 'etag': 'gys80XJOf8XgWBV7xEaW-1di7H8',\n 'id': 'Mauq4qCgsOk',\n 'contentDetails': {'duration': 'PT5M15S',\n                    'dimension': '2d',\n                    'definition': 'hd',\n                    'caption': 'false',\n                    'licensedContent': True,\n                    'contentRating': {},\n                    'projection': 'rectangular'}}\n{'kind': 'youtube#video',\n 'etag': 'OgWxkyWOGlWJ4Agp3yrKgO_gMBg',\n 'id': 'DQNW9qhl4eA',\n 'contentDetails': {'duration': 'PT16M42S',\n                    'dimension': '2d',\n                    'definition': 'hd',\n                    'caption': 'true',\n                    'licensedContent': True,\n                    'contentRating': {},\n                    'projection': 'rectangular'}}\n"
    }
   ],
   "source": [
    "# Requesting details of multiple videos from the playlist above\n",
    "\n",
    "videos_request = youtube.videos().list(\n",
    "    part=\"contentDetails\",\n",
    "    id=','.join(vid_ids)\n",
    ")\n",
    "\n",
    "videos = videos_request.execute()\n",
    "\n",
    "for item in videos['items']:\n",
    "    prettyp(item)"
   ]
  },
  {
   "cell_type": "code",
   "execution_count": 6,
   "metadata": {
    "tags": []
   },
   "outputs": [
    {
     "output_type": "stream",
     "name": "stdout",
     "text": "99 mins 28 secs\n"
    }
   ],
   "source": [
    "# Generating a sum of video durations\n",
    "\n",
    "durations = [video['contentDetails']['duration'][2:-1] for video in videos['items']]\n",
    "durations = [time.split('M') for time in durations]\n",
    "durations_in_secs = [(int(pair[0]) * 60) + int(pair[1])  for pair in durations]\n",
    "total_duration_secs = sum(durations_in_secs)\n",
    "\n",
    "print((total_duration_secs // 60), 'mins', (total_duration_secs % 60), 'secs')"
   ]
  },
  {
   "cell_type": "code",
   "execution_count": 7,
   "metadata": {
    "tags": []
   },
   "outputs": [
    {
     "output_type": "stream",
     "name": "stdout",
     "text": "{'kind': 'youtube#videoListResponse',\n 'etag': 'DjdXczkzYM-HoZipTvoGhzQ2kC4',\n 'items': [{'kind': 'youtube#video',\n            'etag': '6Aek4eHz8RS3poNFPzWGBVp08EQ',\n            'id': '_AEJHKGk9ns',\n            'snippet': {'publishedAt': '2015-04-11T19:42:52Z',\n                        'channelId': 'UCgxzjK6GuOHVKR_08TT4hJQ',\n                        'title': 'Ned Batchelder - Facts and Myths about '\n                                 'Python names and values - PyCon 2015',\n                        'description': '\"Speaker: Ned Batchelder\\n'\n                                       '\\n'\n                                       'The behavior of names and values in '\n                                       'Python can be confusing. Like many '\n                                       'parts of Python, it has an underlying '\n                                       'simplicity that can be hard to '\n                                       'discern, especially if you are used to '\n                                       \"other programming languages. Here I'll \"\n                                       'explain how it all works, and present '\n                                       'some facts and myths along the way.  '\n                                       'Call-by-reference? Call-by-value? The '\n                                       'answer will be clear!\\n'\n                                       '\\n'\n                                       'Slides can be found at: '\n                                       'https://speakerdeck.com/pycon2015 and '\n                                       'https://github.com/PyCon/2015-slides\"',\n                        'thumbnails': {'default': {'url': 'https://i.ytimg.com/vi/_AEJHKGk9ns/default.jpg',\n                                                   'width': 120,\n                                                   'height': 90},\n                                       'medium': {'url': 'https://i.ytimg.com/vi/_AEJHKGk9ns/mqdefault.jpg',\n                                                  'width': 320,\n                                                  'height': 180},\n                                       'high': {'url': 'https://i.ytimg.com/vi/_AEJHKGk9ns/hqdefault.jpg',\n                                                'width': 480,\n                                                'height': 360},\n                                       'standard': {'url': 'https://i.ytimg.com/vi/_AEJHKGk9ns/sddefault.jpg',\n                                                    'width': 640,\n                                                    'height': 480},\n                                       'maxres': {'url': 'https://i.ytimg.com/vi/_AEJHKGk9ns/maxresdefault.jpg',\n                                                  'width': 1280,\n                                                  'height': 720}},\n                        'channelTitle': 'PyCon 2015',\n                        'categoryId': '27',\n                        'liveBroadcastContent': 'none',\n                        'localized': {'title': 'Ned Batchelder - Facts and '\n                                               'Myths about Python names and '\n                                               'values - PyCon 2015',\n                                      'description': '\"Speaker: Ned '\n                                                     'Batchelder\\n'\n                                                     '\\n'\n                                                     'The behavior of names '\n                                                     'and values in Python can '\n                                                     'be confusing. Like many '\n                                                     'parts of Python, it has '\n                                                     'an underlying simplicity '\n                                                     'that can be hard to '\n                                                     'discern, especially if '\n                                                     'you are used to other '\n                                                     'programming languages. '\n                                                     \"Here I'll explain how it \"\n                                                     'all works, and present '\n                                                     'some facts and myths '\n                                                     'along the way.  '\n                                                     'Call-by-reference? '\n                                                     'Call-by-value? The '\n                                                     'answer will be clear!\\n'\n                                                     '\\n'\n                                                     'Slides can be found at: '\n                                                     'https://speakerdeck.com/pycon2015 '\n                                                     'and '\n                                                     'https://github.com/PyCon/2015-slides\"'},\n                        'defaultAudioLanguage': 'en'}}],\n 'pageInfo': {'totalResults': 1, 'resultsPerPage': 1}}\n"
    }
   ],
   "source": [
    "# Requesting the details of a single video\n",
    "\n",
    "thumb_request = youtube.videos().list(\n",
    "    part='snippet',\n",
    "    id='_AEJHKGk9ns',\n",
    ")\n",
    "\n",
    "thumbnail = thumb_request.execute()\n",
    "\n",
    "prettyp(thumbnail)"
   ]
  },
  {
   "cell_type": "code",
   "execution_count": 8,
   "metadata": {
    "tags": []
   },
   "outputs": [
    {
     "output_type": "stream",
     "name": "stdout",
     "text": "https://i.ytimg.com/vi/_AEJHKGk9ns/maxresdefault.jpg\n"
    }
   ],
   "source": [
    "# Extracting the high-res thumbnail URL from the video above\n",
    "\n",
    "print(thumbnail['items'][0]['snippet']['thumbnails']['maxres']['url'])"
   ]
  },
  {
   "cell_type": "code",
   "execution_count": null,
   "metadata": {},
   "outputs": [],
   "source": []
  }
 ],
 "metadata": {
  "language_info": {
   "codemirror_mode": {
    "name": "ipython",
    "version": 3
   },
   "file_extension": ".py",
   "mimetype": "text/x-python",
   "name": "python",
   "nbconvert_exporter": "python",
   "pygments_lexer": "ipython3",
   "version": "3.8.2-final"
  },
  "orig_nbformat": 2,
  "kernelspec": {
   "name": "python38264bitapisandscrapersvenvf2140220de3048d48d920259101581f4",
   "display_name": "Python 3.8.2 64-bit ('apis-and-scrapers': venv)"
  }
 },
 "nbformat": 4,
 "nbformat_minor": 2
}