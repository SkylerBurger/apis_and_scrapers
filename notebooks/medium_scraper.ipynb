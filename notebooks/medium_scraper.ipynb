{
 "cells": [
  {
   "cell_type": "markdown",
   "metadata": {},
   "source": [
    "# Web Scraper - Medium\n",
    "Example article link: https://medium.com/@AG_Design_development/creating-websites-using-react-and-django-rest-framework-f1f847284102"
   ]
  },
  {
   "cell_type": "code",
   "execution_count": 7,
   "metadata": {},
   "outputs": [],
   "source": [
    "from selenium import webdriver\n",
    "from bs4 import BeautifulSoup"
   ]
  },
  {
   "cell_type": "code",
   "execution_count": 8,
   "metadata": {},
   "outputs": [],
   "source": [
    "# Gather page's HTML content\n",
    "\n",
    "browser = webdriver.Chrome('./chromedriver')\n",
    "URL = 'https://medium.com/@AG_Design_development/creating-websites-using-react-and-django-rest-framework-f1f847284102'\n",
    "browser.get(URL)"
   ]
  },
  {
   "cell_type": "code",
   "execution_count": 9,
   "metadata": {},
   "outputs": [],
   "source": [
    "# Utilize BeautifulSoup to target all <p> tags\n",
    "\n",
    "soup = BeautifulSoup(browser.page_source)\n",
    "article = soup.find('article')\n",
    "title = article.find('h1')\n",
    "paragraphs = article.find_all('p')\n",
    "\n",
    "# TODO: Grab article's title and write it as an h1\n",
    "\n",
    "# TODO: Grab article section headings and add write them in as the appropriate heading level\n",
    "\n",
    "# TODO: Grab code blocks and format them into markdown code blocks with triple-graves"
   ]
  },
  {
   "cell_type": "code",
   "execution_count": 10,
   "metadata": {},
   "outputs": [],
   "source": [
    "# Extract text from <p> tags\n",
    "# Add empty line after each paragraph\n",
    "\n",
    "paragraphs = [paragraph.text + '\\n\\n' for paragraph in paragraphs]\n",
    "\n",
    "\n",
    "# TODO: Prepare a list of all lines that need to be written: paragraphs, headings, etc.\n",
    "\n",
    "# Write paragraphs to file\n",
    "\n",
    "with open('article.md', 'w+') as file:\n",
    "    for paragraph in paragraphs:\n",
    "        file.write(paragraph)"
   ]
  },
  {
   "cell_type": "code",
   "execution_count": 6,
   "metadata": {},
   "outputs": [],
   "source": []
  }
 ],
 "metadata": {
  "file_extension": ".py",
  "kernelspec": {
   "display_name": "Python 3",
   "language": "python",
   "name": "python3"
  },
  "language_info": {
   "codemirror_mode": {
    "name": "ipython",
    "version": 3
   },
   "file_extension": ".py",
   "mimetype": "text/x-python",
   "name": "python",
   "nbconvert_exporter": "python",
   "pygments_lexer": "ipython3",
   "version": "3.7.5"
  },
  "mimetype": "text/x-python",
  "name": "python",
  "npconvert_exporter": "python",
  "pygments_lexer": "ipython3",
  "version": 3
 },
 "nbformat": 4,
 "nbformat_minor": 4
}
