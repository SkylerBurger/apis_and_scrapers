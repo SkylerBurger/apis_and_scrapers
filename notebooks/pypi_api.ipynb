{
 "cells": [
  {
   "cell_type": "markdown",
   "metadata": {},
   "source": [
    "# PyPI JSON API Demonstration"
   ]
  },
  {
   "cell_type": "code",
   "execution_count": 5,
   "metadata": {},
   "outputs": [],
   "source": [
    "import json\n",
    "\n",
    "import requests"
   ]
  },
  {
   "cell_type": "code",
   "execution_count": 6,
   "metadata": {
    "tags": [
     "outputPrepend"
    ]
   },
   "outputs": [],
   "source": [
    "URL = 'https://www.pypi.org/pypi/requests/json'\n",
    "response = requests.get(URL)\n"
   ]
  },
  {
   "cell_type": "code",
   "execution_count": 7,
   "metadata": {},
   "outputs": [],
   "source": [
    "if response.status_code == 200:\n",
    "    test = json.loads(response.content)\n",
    "else:\n",
    "    raise ValueError(f'Project URL returned Status Code: {response.status_code}')"
   ]
  },
  {
   "cell_type": "code",
   "execution_count": 8,
   "metadata": {},
   "outputs": [
    {
     "output_type": "execute_result",
     "data": {
      "text/plain": "{'author': 'Kenneth Reitz',\n 'author_email': 'me@kennethreitz.org',\n 'bugtrack_url': None,\n 'classifiers': ['Development Status :: 5 - Production/Stable',\n  'Intended Audience :: Developers',\n  'License :: OSI Approved :: Apache Software License',\n  'Natural Language :: English',\n  'Programming Language :: Python',\n  'Programming Language :: Python :: 2',\n  'Programming Language :: Python :: 2.7',\n  'Programming Language :: Python :: 3',\n  'Programming Language :: Python :: 3.5',\n  'Programming Language :: Python :: 3.6',\n  'Programming Language :: Python :: 3.7',\n  'Programming Language :: Python :: 3.8',\n  'Programming Language :: Python :: Implementation :: CPython',\n  'Programming Language :: Python :: Implementation :: PyPy'],\n 'description': '\\n<span align=\"center\">\\n\\n<pre>\\n    <a href=\"https://requests.readthedocs.io/\"><img src=\"https://raw.githubusercontent.com/psf/requests/master/ext/requests-logo.png\" align=\"center\" /></a>\\n\\n    <div align=\"left\">\\n    <p></p>\\n    <code> Python 3.7.4 (default, Sep  7 2019, 18:27:02)</code>\\n    <code> >>> <strong>import requests</strong></code>\\n    <code> >>> r = requests.get(\\'https://api.github.com/repos/psf/requests\\')</code>\\n    <code> >>> r.json()[\"description\"]</code>\\n    <code> \\'A simple, yet elegant HTTP library.\\'</code>\\n    </div>\\n\\n    <p align=\"center\">\\nThis software has been designed for you, with much joy,\\nby <a href=\"https://kennethreitz.org/\">Kenneth Reitz</a> & is protected by The <a href=\"https://www.python.org/psf/\">Python Software Foundation</a>.\\n   </p>\\n</pre>\\n\\n</span>\\n\\n<p>&nbsp;</p><p>&nbsp;</p>\\n\\n<p align=\"center\"><strong>Requests</strong> is an elegant and simple HTTP library for Python, built with ♥.</p>\\n\\n<p>&nbsp;</p>\\n\\n```pycon\\n>>> import requests\\n>>> r = requests.get(\\'https://api.github.com/user\\', auth=(\\'user\\', \\'pass\\'))\\n>>> r.status_code\\n200\\n>>> r.headers[\\'content-type\\']\\n\\'application/json; charset=utf8\\'\\n>>> r.encoding\\n\\'utf-8\\'\\n>>> r.text\\nu\\'{\"type\":\"User\"...\\'\\n>>> r.json()\\n{u\\'disk_usage\\': 368627, u\\'private_gists\\': 484, ...}\\n```\\n\\n\\n\\n---------------------------------------------------------------------\\n\\n<p>&nbsp;</p>\\n\\nRequests allows you to send HTTP/1.1 requests extremely easily. There’s no need to manually add query strings to your URLs, or to form-encode your `PUT` & `POST` data — but nowadays, just use the `json` method!\\n\\n\\nRequests is **the most downloaded Python package today**, pulling in around `14M downloads / week`— according to GitHub, Requests is currently [depended upon](https://github.com/psf/requests/network/dependents?package_id=UGFja2FnZS01NzA4OTExNg%3D%3D) by `367_296` repositories. You may certainly put your trust in this code.\\n\\n\\n<p>&nbsp;</p>\\n<p align=\"center\"><a href=\"https://pepy.tech/project/requests\" rel=\"nofollow\"><img src=\"https://camo.githubusercontent.com/e1dedc9f5ce5cd6b6c699f33d2e812daadcf3645/68747470733a2f2f706570792e746563682f62616467652f7265717565737473\" alt=\"Downloads\" data-canonical-src=\"https://pepy.tech/badge/requests\" style=\"max-width:100%;\"></a>\\n<a href=\"https://pypi.org/project/requests/\" rel=\"nofollow\"><img src=\"https://camo.githubusercontent.com/6d78aeec0a9a1cfe147ad064bfb99069e298e29b/68747470733a2f2f696d672e736869656c64732e696f2f707970692f707976657273696f6e732f72657175657374732e737667\" alt=\"image\" data-canonical-src=\"https://img.shields.io/pypi/pyversions/requests.svg\" style=\"max-width:100%;\"></a>\\n<a href=\"https://github.com/psf/requests/graphs/contributors\"><img src=\"https://camo.githubusercontent.com/a70ea15870b38bba9203b969f6a6b7e7845fbb8a/68747470733a2f2f696d672e736869656c64732e696f2f6769746875622f636f6e7472696275746f72732f7073662f72657175657374732e737667\" alt=\"image\" data-canonical-src=\"https://img.shields.io/github/contributors/psf/requests.svg\" style=\"max-width:100%;\"></a></p>\\n\\n<p>&nbsp;</p>\\n\\n<h2 align=\"center\">Supported Features & Best–Practices</h2>\\n\\nRequests is ready for the demands of building robust and reliable HTTP–speak applications, for the needs of today.\\n\\n<pre class=\"test\">\\n         + International Domains and URLs       + Keep-Alive & Connection Pooling\\n         + Sessions with Cookie Persistence     + Browser-style SSL Verification\\n         + Basic & Digest Authentication        + Familiar `dict`–like Cookies\\n         + Automatic Decompression of Content   + Automatic Content Decoding\\n         + Automatic Connection Pooling         + Unicode Response Bodies<super>*</super>\\n         + Multi-part File Uploads              + SOCKS Proxy Support\\n         + Connection Timeouts                  + Streaming Downloads\\n         + Automatic honoring of `.netrc`       + Chunked HTTP Requests\\n\\n                            &, of course, rock–solid stability!\\n</pre>\\n</div>\\n\\n<p align=\"center\">\\n        ✨ 🍰 ✨&nbsp;&nbsp;&nbsp;&nbsp;&nbsp;&nbsp;&nbsp;&nbsp;&nbsp;&nbsp;&nbsp;&nbsp;\\n</p>\\n\\n<p>&nbsp;</p>\\n\\nRequests Module Installation\\n----------------------------\\n\\nThe recommended way to intall the `requests` module is to simply use [`pipenv`](https://pipenv.kennethreitz.org) (or `pip`, of\\ncourse):\\n\\n```console\\n$ pipenv install requests\\nAdding requests to Pipfile\\'s [packages]…\\n✔ Installation Succeeded\\n…\\n```\\n\\nRequests officially supports Python 2.7 & 3.5+.\\n\\n-------------------------------------\\n\\n## P.S. —\\xa0Documentation is Available at [`//requests.readthedocs.io`](https://requests.readthedocs.io/en/latest/).\\n\\n<p align=\"center\">\\n        <a href=\"https://requests.readthedocs.io/\"><img src=\"https://raw.githubusercontent.com/psf/requests/master/ext/ss.png\" align=\"center\" /></a>\\n</p>\\n\\n\\n------------------\\n\\n\\n<p>&nbsp;</p>\\n\\n<p align=\"center\">\\n        <a href=\"https://kennethreitz.org/\"><img src=\"https://raw.githubusercontent.com/psf/requests/master/ext/kr.png\" align=\"center\" /></a>\\n</p>\\n\\n<p>&nbsp;</p>\\n\\n<p align=\"center\">\\n        <a href=\"https://www.python.org/psf/\"><img src=\"https://raw.githubusercontent.com/psf/requests/master/ext/psf.png\" align=\"center\" /></a>\\n</p>\\n\\n\\n',\n 'description_content_type': 'text/markdown',\n 'docs_url': None,\n 'download_url': '',\n 'downloads': {'last_day': -1, 'last_month': -1, 'last_week': -1},\n 'home_page': 'https://requests.readthedocs.io',\n 'keywords': '',\n 'license': 'Apache 2.0',\n 'maintainer': '',\n 'maintainer_email': '',\n 'name': 'requests',\n 'package_url': 'https://pypi.org/project/requests/',\n 'platform': '',\n 'project_url': 'https://pypi.org/project/requests/',\n 'project_urls': {'Documentation': 'https://requests.readthedocs.io',\n  'Homepage': 'https://requests.readthedocs.io',\n  'Source': 'https://github.com/psf/requests'},\n 'release_url': 'https://pypi.org/project/requests/2.23.0/',\n 'requires_dist': ['chardet (<4,>=3.0.2)',\n  'idna (<3,>=2.5)',\n  'urllib3 (!=1.25.0,!=1.25.1,<1.26,>=1.21.1)',\n  'certifi (>=2017.4.17)',\n  \"pyOpenSSL (>=0.14) ; extra == 'security'\",\n  \"cryptography (>=1.3.4) ; extra == 'security'\",\n  \"PySocks (!=1.5.7,>=1.5.6) ; extra == 'socks'\",\n  'win-inet-pton ; (sys_platform == \"win32\" and python_version == \"2.7\") and extra == \\'socks\\''],\n 'requires_python': '>=2.7, !=3.0.*, !=3.1.*, !=3.2.*, !=3.3.*, !=3.4.*',\n 'summary': 'Python HTTP for Humans.',\n 'version': '2.23.0',\n 'yanked': False,\n 'yanked_reason': None}"
     },
     "metadata": {},
     "execution_count": 8
    }
   ],
   "source": [
    "test['info']"
   ]
  },
  {
   "cell_type": "code",
   "execution_count": null,
   "metadata": {},
   "outputs": [],
   "source": []
  }
 ],
 "metadata": {
  "language_info": {
   "codemirror_mode": {
    "name": "ipython",
    "version": 3
   },
   "file_extension": ".py",
   "mimetype": "text/x-python",
   "name": "python",
   "nbconvert_exporter": "python",
   "pygments_lexer": "ipython3",
   "version": "3.8.2-final"
  },
  "orig_nbformat": 2,
  "kernelspec": {
   "name": "python38264bitpypicollectorvenv6a4e2e4dcb994f8aa5b860bd2fa209fd",
   "display_name": "Python 3.8.2 64-bit ('pypi-collector': venv)"
  }
 },
 "nbformat": 4,
 "nbformat_minor": 2
}