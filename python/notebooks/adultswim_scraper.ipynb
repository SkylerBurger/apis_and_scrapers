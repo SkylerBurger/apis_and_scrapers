{
 "metadata": {
  "language_info": {
   "codemirror_mode": {
    "name": "ipython",
    "version": 3
   },
   "file_extension": ".py",
   "mimetype": "text/x-python",
   "name": "python",
   "nbconvert_exporter": "python",
   "pygments_lexer": "ipython3",
   "version": "3.8.2-final"
  },
  "orig_nbformat": 2,
  "kernelspec": {
   "name": "python38264bitapisandscrapersvenvf2140220de3048d48d920259101581f4",
   "display_name": "Python 3.8.2 64-bit ('apis-and-scrapers': venv)"
  }
 },
 "nbformat": 4,
 "nbformat_minor": 2,
 "cells": [
  {
   "cell_type": "code",
   "execution_count": 14,
   "metadata": {},
   "outputs": [],
   "source": [
    "from pprint import pprint\n",
    "\n",
    "from selenium import webdriver\n",
    "from bs4 import BeautifulSoup"
   ]
  },
  {
   "cell_type": "code",
   "execution_count": 15,
   "metadata": {},
   "outputs": [],
   "source": [
    "as_show_link = 'https://www.adultswim.com/videos/ghost-in-the-shell'\n"
   ]
  },
  {
   "cell_type": "code",
   "execution_count": 16,
   "metadata": {},
   "outputs": [],
   "source": [
    "# Create the browser\n",
    "\n",
    "options = webdriver.ChromeOptions()\n",
    "options.add_argument('headless')\n",
    "browser = webdriver.Chrome(executable_path='../../utilities/chromedriver', chrome_options=options)"
   ]
  },
  {
   "cell_type": "code",
   "execution_count": 17,
   "metadata": {
    "tags": []
   },
   "outputs": [],
   "source": [
    "# Make the request, gather the response\n",
    "\n",
    "browser.get(as_show_link)\n",
    "html = browser.page_source\n",
    "browser.quit()"
   ]
  },
  {
   "cell_type": "code",
   "execution_count": 23,
   "metadata": {
    "tags": []
   },
   "outputs": [
    {
     "output_type": "stream",
     "name": "stdout",
     "text": "2\n"
    }
   ],
   "source": [
    "# Parse the response\n",
    "# Break into seasons\n",
    "soup = BeautifulSoup(html, 'html.parser')\n",
    "\n",
    "seasons = soup.find_all(name='div', attrs={'itemprop':'containsSeason'})\n",
    "print(len(seasons))"
   ]
  },
  {
   "cell_type": "code",
   "execution_count": 18,
   "metadata": {
    "tags": []
   },
   "outputs": [],
   "source": [
    "\n",
    "\n",
    "\n",
    "\n",
    "episodes = soup.find_all('div', class_='_29ThWwPi')\n",
    "\n",
    "episode_guide = {}\n",
    "\n",
    "for index, episode in enumerate(episodes):\n",
    "    episode_data = {}\n",
    "    meta_tags = episode.find_all('meta')\n",
    "    for meta_data in meta_tags:\n",
    "        prop = meta_data.get('itemprop')\n",
    "        content = meta_data.get('content')\n",
    "        if prop and content:\n",
    "            episode_data[prop] = content\n",
    "    episode_guide[f'episode_{index + 1}'] = episode_data"
   ]
  },
  {
   "cell_type": "code",
   "execution_count": 20,
   "metadata": {
    "tags": [
     "outputPrepend"
    ]
   },
   "outputs": [
    {
     "output_type": "stream",
     "name": "stdout",
     "text": " of the trial, it becomes '\n                               'clear that who the attorney is really after is '\n                               'not Togusa, but all of Section 9!',\n                'duration': 'T24M42S',\n                'episodeNumber': '10',\n                'expires': '2036-01-31T05:00:00.000Z',\n                'thumbnailUrl': 'https://media.cdn.adultswim.com/uploads/20200305/thumbnails/2_2035111235-gits2_2ndgig_010_air_cid-37NNP.jpg',\n                'uploadDate': '2019-05-16T15:00:00.000Z'},\n 'episode_37': {'contentRating': 'TV-14',\n                'datePublished': '2006-02-12T05:30:00.000Z',\n                'description': 'While field testing new recruits, the Major '\n                               'finds herself hacked, and an old woman tells '\n                               'her a story from her past.\\n'\n                               'Watch more Ghost in the Shell on [adult swim].',\n                'duration': 'T24M42S',\n                'episodeNumber': '11',\n                'expires': '2036-01-31T05:00:00.000Z',\n                'thumbnailUrl': 'https://media.cdn.adultswim.com/uploads/20200305/thumbnails/2_2035111432-gits2_2ndgig_011_air_cid-37NNT.jpg',\n                'uploadDate': '2019-05-16T15:00:00.000Z'},\n 'episode_38': {'contentRating': 'TV-MA',\n                'datePublished': '2006-02-19T05:30:00.000Z',\n                'description': 'The Tachikomas, Ishikawa, and Borma locate a '\n                               'suspicious file believed to be the Individual '\n                               'Eleven virus, The Major, Batou, Saito go after '\n                               'Kuze, and the Individual Eleven prepare to put '\n                               'their plan into action.',\n                'duration': 'T24M42S',\n                'episodeNumber': '12',\n                'expires': '2036-01-31T05:00:00.000Z',\n                'thumbnailUrl': 'https://media.cdn.adultswim.com/uploads/20200305/thumbnails/2_203511214-gits2_2ndgig_012_air_cid-37NNV.jpg',\n                'uploadDate': '2019-05-16T15:00:00.000Z'},\n 'episode_39': {'contentRating': 'TV-MA',\n                'datePublished': '2006-02-26T05:30:00.000Z',\n                'description': \"After tracking down the designer of Kuze's \"\n                               'face, it is discovered that he was already '\n                               'killed... by Paz.',\n                'duration': 'T25M0S',\n                'episodeNumber': '13',\n                'expires': '2036-01-31T05:00:00.000Z',\n                'thumbnailUrl': 'https://media.cdn.adultswim.com/uploads/20200305/thumbnails/2_2035112231-gits2_2ndgig_013_air_cid-3805M.jpg',\n                'uploadDate': '2019-05-16T15:00:00.000Z'},\n 'episode_4': {'contentRating': 'TV-14',\n               'datePublished': '2004-11-28T05:30:00.000Z',\n               'description': 'While working late, Togusa gets a call from one '\n                              'of his colleagues from his days on the police '\n                              \"force. It seems that he's uncovered something \"\n                              'strange happening with the investigators in the '\n                              'Laughing Man Unit, a special task force formed '\n                              'to catch the infamous cyber criminal known only '\n                              'as the Laughing Man. But before he can meet '\n                              \"with Togusa, he's killed in a car accident. \"\n                              'Now, Togusa only has an envelope full of '\n                              'seemingly random photos to go on--can he put '\n                              'the pieces of the puzzle together?',\n               'duration': 'T24M41S',\n               'episodeNumber': '4',\n               'expires': '2036-01-31T05:00:00.000Z',\n               'thumbnailUrl': 'https://media.cdn.adultswim.com/uploads/20200305/thumbnails/2_203510265-gits_sac_004_air_cid-32N7W.jpg',\n               'uploadDate': '2019-05-23T15:00:00.000Z'},\n 'episode_40': {'contentRating': 'TV-MA',\n                'datePublished': '2006-03-05T05:30:00.000Z',\n                'description': 'Saito recounts his first run-in with the '\n                               'Major, and how he became part of the group '\n                               'that would eventually become Section 9.',\n                'duration': 'T25M0S',\n                'episodeNumber': '14',\n                'expires': '2036-01-31T05:00:00.000Z',\n                'thumbnailUrl': 'https://media.cdn.adultswim.com/uploads/20200305/thumbnails/2_2035112373-gits2_2ndgig_014_air_cid-37Y8D.jpg',\n                'uploadDate': '2019-05-16T15:00:00.000Z'},\n 'episode_41': {'contentRating': 'TV-PG',\n                'datePublished': '2006-03-12T05:30:00.000Z',\n                'description': 'The Major has become worried about the '\n                               'Tachikomas. It appears that their AIs have '\n                               'developed much more quickly and in ways that '\n                               'were not anticipated; they have begun speaking '\n                               'about their \"individuality\". Worried, the '\n                               'Major calls Batou to a meeting; the '\n                               'Tachikomas, having suspicions of their own, '\n                               'attempt to eavesdrop on their conversation. '\n                               \"What will be the fate of Section 9's \"\n                               'Tachikomas?',\n                'duration': 'T24M41S',\n                'episodeNumber': '15',\n                'expires': '2036-01-31T05:00:00.000Z',\n                'thumbnailUrl': 'https://media.cdn.adultswim.com/uploads/20200305/thumbnails/2_2035112532-gits2_2ndgig_015_air_cid-37Y8H.jpg',\n                'uploadDate': '2019-05-16T15:00:00.000Z'},\n 'episode_42': {'contentRating': 'TV-14 V',\n                'datePublished': '2006-03-19T05:30:00.000Z',\n                'description': 'The Prime Minister is alerted to the existence '\n                               'of \"hub cyberbrains,\" while Ishikawa returns '\n                               'from the peninsula to report on what he found '\n                               \"out about Kuze's past.\",\n                'duration': 'T24M41S',\n                'episodeNumber': '16',\n                'expires': '2036-01-31T05:00:00.000Z',\n                'thumbnailUrl': 'https://i.cdn.turner.com/adultswim/big/video/episode-thumbs-16x9/gits2_cc_016_pt1-06.jpg',\n                'uploadDate': '2019-05-16T15:00:00.000Z'},\n 'episode_43': {'contentRating': 'TV-14 DV',\n                'datePublished': '2006-03-26T05:30:00.000Z',\n                'description': 'The Major heads to Taiwan to investigate a '\n                               'lead on Kuze, and ends up getting involved '\n                               'with local gangs and a troublesome kid.',\n                'duration': 'T24M41S',\n                'episodeNumber': '17',\n                'expires': '2036-01-31T05:00:00.000Z',\n                'thumbnailUrl': 'https://media.cdn.adultswim.com/uploads/20200305/thumbnails/2_203511399-gits2_2ndgig_017_air_cid-380RG.jpg',\n                'uploadDate': '2019-05-16T15:00:00.000Z'},\n 'episode_44': {'contentRating': 'TV-14 V',\n                'datePublished': '2009-09-06T07:30:00.000Z',\n                'description': 'Batou and the Major are sent to Berlin in an '\n                               'international effort to help track down the '\n                               \"terrorist Angel's Wing.\",\n                'duration': 'T24M41S',\n                'episodeNumber': '18',\n                'expires': '2036-01-31T05:00:00.000Z',\n                'thumbnailUrl': 'https://media.cdn.adultswim.com/uploads/20200305/thumbnails/2_2035113278-gits2_2ndgig_018_air_cid-380RH.jpg',\n                'uploadDate': '2019-05-16T15:00:00.000Z'},\n 'episode_45': {'contentRating': 'TV-14 V',\n                'datePublished': '2006-04-09T04:30:00.000Z',\n                'description': 'While tensions rise in the Dejima refugee '\n                               'camp, the Major hacks the refugee cyberbrain '\n                               \"hub to determine Kuze's location.\",\n                'duration': 'T24M42S',\n                'episodeNumber': '19',\n                'expires': '2036-01-31T05:00:00.000Z',\n                'thumbnailUrl': 'https://media.cdn.adultswim.com/uploads/20200305/thumbnails/2_2035113440-gits2_2ndgig_019_air_cid-3814C.jpg',\n                'uploadDate': '2019-05-16T15:00:00.000Z'},\n 'episode_46': {'contentRating': 'TV-14 V',\n                'datePublished': '2006-04-16T04:30:00.000Z',\n                'description': \"After being ambushed by Kuze's followers at a \"\n                               'false location, Section 9 is alerted to his '\n                               'true location, and his intentions of '\n                               'purchasing nuclear materials from the Russian '\n                               'mafia.The Cabinet Intelligence Service and '\n                               'Gohda are involved behind the scenes.',\n                'duration': 'T24M41S',\n                'episodeNumber': '20',\n                'expires': '2036-01-31T05:00:00.000Z',\n                'thumbnailUrl': 'https://media.cdn.adultswim.com/uploads/20200305/thumbnails/2_2035113588-gits2_2ndgig_020_air_cid-3813Y.jpg',\n                'uploadDate': '2019-05-16T15:00:00.000Z'},\n 'episode_47': {'contentRating': 'TV-MA',\n                'datePublished': '2006-04-23T04:30:00.000Z',\n                'description': 'Kuze escapes and Section 9 suffers heavy '\n                               'damages from the confrontation; Kuze leaves '\n                               'for Nagasaki harbor with the Russian package.',\n                'duration': 'T24M41S',\n                'episodeNumber': '21',\n                'expires': '2036-01-31T05:00:00.000Z',\n                'thumbnailUrl': 'https://media.cdn.adultswim.com/uploads/20200305/thumbnails/2_2035114158-gits2_2ndgig_021_air_cid-3813M.jpg',\n                'uploadDate': '2019-04-18T15:00:00.000Z'},\n 'episode_48': {'contentRating': 'TV-14 L',\n                'datePublished': '2006-04-30T04:30:00.000Z',\n                'description': 'The entire city of Nagasaki is evacuated and '\n                               'the JSDF moves in after a live nuclear bomb is '\n                               'found planted in the city, presumably by '\n                               'Dejima militants. Section 9 arrives to defuse '\n                               'the bomb and determine its precise origins.',\n                'duration': 'T24M42S',\n                'episodeNumber': '22',\n                'expires': '2036-01-31T05:00:00.000Z',\n                'thumbnailUrl': 'https://media.cdn.adultswim.com/uploads/20200305/thumbnails/2_2035114312-gits2_2ndgig_022_air_cid-382TR.jpg',\n                'uploadDate': '2019-04-18T15:00:00.000Z'},\n 'episode_49': {'contentRating': 'TV-14 LV',\n                'datePublished': '2006-05-07T04:30:00.000Z',\n                'description': 'The government declares martial Law in Dejima, '\n                               'believing that the refugees have a nuclear '\n                               'device and plan to use it to gain '\n                               \"independence. When the refugees' connection to \"\n                               'Kuze is cut off, one shot begins a bloody war.',\n                'duration': 'T24M41S',\n                'episodeNumber': '23',\n                'expires': '2036-01-31T05:00:00.000Z',\n                'thumbnailUrl': 'https://media.cdn.adultswim.com/uploads/20200305/thumbnails/2_2035114459-gits2_2ndgig_023_air_cid-385KV.jpg',\n                'uploadDate': '2019-04-18T15:00:00.000Z'},\n 'episode_5': {'contentRating': 'TV-14 LS',\n               'datePublished': '2004-12-05T05:30:00.000Z',\n               'description': 'The Laughing Man, having returned after a '\n                              'six-year absence, threatens to assassinate the '\n                              'Superintendent-General of the police. Everyone '\n                              'is in an uproar over his return. Aramaki, '\n                              \"however, thinks it's a cover-up. He briefs \"\n                              'Section 9 on the prime suspect, Nanao=A, an '\n                              'incredibly gifted programmer who developed the '\n                              'micro-machines that are currently the '\n                              \"foundation of Serano Industries. Still, it's \"\n                              'just too perfect. The team splits up and '\n                              'investigates.',\n               'duration': 'T24M42S',\n               'episodeNumber': '5',\n               'expires': '2036-01-31T05:00:00.000Z',\n               'thumbnailUrl': 'https://media.cdn.adultswim.com/uploads/20200305/thumbnails/2_20351014113-gits_sac_005_air_cid-32N7V.jpg',\n               'uploadDate': '2019-05-23T15:00:00.000Z'},\n 'episode_50': {'contentRating': 'TV-14 LV',\n                'datePublished': '2006-05-14T04:30:00.000Z',\n                'description': 'The Prime Minister is taken into custody, and '\n                               'the military begins its strike on Dejima. The '\n                               'Major and part of Section 9 head to Dejima to '\n                               'try to hand over the nuclear device to the '\n                               'military there, in order to defuse the '\n                               'situation, while Ishikawa heads to SPring-8 to '\n                               'deliver the rest of the plutonium.',\n                'duration': 'T24M41S',\n                'episodeNumber': '24',\n                'expires': '2036-01-31T05:00:00.000Z',\n                'thumbnailUrl': 'https://media.cdn.adultswim.com/uploads/20200305/thumbnails/2_203511506-gits2_2ndgig_024_air_cid-385KT.jpg',\n                'uploadDate': '2019-04-18T15:00:00.000Z'},\n 'episode_51': {'contentRating': 'TV-MA',\n                'datePublished': '2006-05-21T04:30:00.000Z',\n                'description': 'Kuze manages to take down the jamming plane, '\n                               'but becomes trapped in rubble with the Major. '\n                               'The Tachikomas begin discussing what to do '\n                               'about the nuclear submarine they have spotted, '\n                               'and Batou manages to convince the special '\n                               'forces that have been sent to kill them to '\n                               'listen to him.',\n                'duration': 'T24M41S',\n                'episodeNumber': '25',\n                'expires': '2036-01-31T05:00:00.000Z',\n                'thumbnailUrl': 'https://media.cdn.adultswim.com/uploads/20200305/thumbnails/2_2035115154-gits2_2ndgig_025_air_cid-3871H.jpg',\n                'uploadDate': '2019-04-25T15:00:00.000Z'},\n 'episode_52': {'contentRating': 'TV-MA',\n                'datePublished': '2006-05-28T04:30:00.000Z',\n                'description': 'The tables seem to be turning in favor of '\n                               'section 9, but the nuclear missile is still '\n                               'being prepared for launch. The Tachikomas take '\n                               'control of the AI satellite, and take out the '\n                               'nuclear missile.',\n                'duration': 'T24M41S',\n                'episodeNumber': '26',\n                'expires': '2036-01-31T05:00:00.000Z',\n                'thumbnailUrl': 'https://media.cdn.adultswim.com/uploads/20200305/thumbnails/2_2035115321-gits2_2ndgig_026_air_cid-387H2.jpg',\n                'uploadDate': '2019-05-02T15:00:00.000Z'},\n 'episode_6': {'contentRating': 'TV-14 V',\n               'datePublished': '2004-12-12T05:30:00.000Z',\n               'description': 'As Togusa and Bato track down Nanao, Motoko and '\n                              'Paz are attempting to protect the '\n                              'Superintendent-General at a press conference '\n                              'about the police misuse of interceptors. When '\n                              'the virus does hit, Motoko and Paz have to act '\n                              'fast to save the intended victim.  Meanwhile, '\n                              'the road to Nanao=A hits a dead end.',\n               'duration': 'T24M41S',\n               'episodeNumber': '6',\n               'expires': '2036-01-31T05:00:00.000Z',\n               'thumbnailUrl': 'https://media.cdn.adultswim.com/uploads/20200305/thumbnails/2_2035101513-gits_sac_006_air_cid-32YRJ.jpg',\n               'uploadDate': '2019-05-23T15:00:00.000Z'},\n 'episode_7': {'contentRating': 'TV-14 V',\n               'datePublished': '2004-12-19T05:30:00.000Z',\n               'description': 'Section 9 is on the trail of Marcelo Jarti, a '\n                              'South American revolutionary hero who has '\n                              'arrived in Japan. However, Jarti is a hard man '\n                              'to catch because he employs look-alikes to '\n                              'deceive people. Nevertheless, Section 9 is '\n                              \"convinced that the one they're tracking is the \"\n                              'real thing, and after a rather out-of-control '\n                              'gunbattle in an upscale hotel, they track him '\n                              'to an old warehouse. When they split up, '\n                              'Togusa, Batou, and Motoko each encounter '\n                              'Jarti--at the same time!',\n               'duration': 'T23M10S',\n               'episodeNumber': '7',\n               'expires': '2036-01-31T05:00:00.000Z',\n               'thumbnailUrl': 'https://media.cdn.adultswim.com/uploads/20200305/thumbnails/2_20351015188-gits_sac_007_air_cid-3369D.jpg',\n               'uploadDate': '2019-05-23T15:00:00.000Z'},\n 'episode_8': {'contentRating': 'TV-14',\n               'datePublished': '2005-01-02T05:30:00.000Z',\n               'description': \"Motoko's friend Courtin asks her to come to the \"\n                              'hospital where she works. It seems a little '\n                              'girl just received a heart transplant, but the '\n                              \"donor's family doesn't remember ever agreeing \"\n                              'to donate the heart. Seeing the little girl '\n                              'reminds Motoko of her own past. When she '\n                              'mentions this story to Aramaki, he tells them '\n                              'to determine if this is tied to a ring of '\n                              'black-market organ smugglers supposedly run by '\n                              'the mafia.',\n               'duration': 'T24M42S',\n               'episodeNumber': '8',\n               'expires': '2036-01-31T05:00:00.000Z',\n               'thumbnailUrl': 'https://media.cdn.adultswim.com/uploads/20200305/thumbnails/2_20351015361-gits_sac_008_air_cid-33GGF.jpg',\n               'uploadDate': '2019-05-23T15:00:00.000Z'},\n 'episode_9': {'contentRating': 'TV-14',\n               'datePublished': '2005-01-09T05:30:00.000Z',\n               'description': 'Motoko enters into an online chat room devoted '\n                              'to the Laughing Man to see if she can find any '\n                              'new information on him. What she discovers is a '\n                              'spirited debate among the self-proclaimed '\n                              '\"fans\" of the Laughing Man, but very little '\n                              'hard evidence.',\n               'duration': 'T24M41S',\n               'episodeNumber': '9',\n               'expires': '2036-01-31T05:00:00.000Z',\n               'thumbnailUrl': 'https://media.cdn.adultswim.com/uploads/20200305/thumbnails/2_20351015538-gits_sac_009_air_cid-33GGH.jpg',\n               'uploadDate': '2019-05-23T15:00:00.000Z'}}\n"
    }
   ],
   "source": [
    "pprint(episode_guide)"
   ]
  },
  {
   "cell_type": "code",
   "execution_count": null,
   "metadata": {},
   "outputs": [],
   "source": []
  }
 ]
}